{
  "metadata": {
    "kernelspec": {
      "language": "python",
      "display_name": "Python 3",
      "name": "python3"
    },
    "language_info": {
      "pygments_lexer": "ipython3",
      "nbconvert_exporter": "python",
      "version": "3.6.4",
      "file_extension": ".py",
      "codemirror_mode": {
        "name": "ipython",
        "version": 3
      },
      "name": "python",
      "mimetype": "text/x-python"
    },
    "colab": {
      "name": "Linear Regression",
      "provenance": [],
      "include_colab_link": true
    }
  },
  "nbformat_minor": 0,
  "nbformat": 4,
  "cells": [
    {
      "cell_type": "markdown",
      "metadata": {
        "id": "view-in-github",
        "colab_type": "text"
      },
      "source": [
        "<a href=\"https://colab.research.google.com/github/MagedAlmoliki1/Multiple-Linear-Regression-Model/blob/main/Linear_Regression.ipynb\" target=\"_parent\"><img src=\"https://colab.research.google.com/assets/colab-badge.svg\" alt=\"Open In Colab\"/></a>"
      ]
    },
    {
      "source": [
        "\n",
        "# IMPORTANT: RUN THIS CELL IN ORDER TO IMPORT YOUR KAGGLE DATA SOURCES\n",
        "# TO THE CORRECT LOCATION (/kaggle/input) IN YOUR NOTEBOOK,\n",
        "# THEN FEEL FREE TO DELETE THIS CELL.\n",
        "# NOTE: THIS NOTEBOOK ENVIRONMENT DIFFERS FROM KAGGLE'S PYTHON\n",
        "# ENVIRONMENT SO THERE MAY BE MISSING LIBRARIES USED BY YOUR\n",
        "# NOTEBOOK.\n",
        "\n",
        "import os\n",
        "import sys\n",
        "from tempfile import NamedTemporaryFile\n",
        "from urllib.request import urlopen\n",
        "from urllib.parse import unquote, urlparse\n",
        "from urllib.error import HTTPError\n",
        "from zipfile import ZipFile\n",
        "import tarfile\n",
        "import shutil\n",
        "\n",
        "CHUNK_SIZE = 40960\n",
        "DATA_SOURCE_MAPPING = 'real-estate-price-prediction:https%3A%2F%2Fstorage.googleapis.com%2Fkaggle-data-sets%2F88705%2F204267%2Fbundle%2Farchive.zip%3FX-Goog-Algorithm%3DGOOG4-RSA-SHA256%26X-Goog-Credential%3Dgcp-kaggle-com%2540kaggle-161607.iam.gserviceaccount.com%252F20241012%252Fauto%252Fstorage%252Fgoog4_request%26X-Goog-Date%3D20241012T020013Z%26X-Goog-Expires%3D259200%26X-Goog-SignedHeaders%3Dhost%26X-Goog-Signature%3D72c48d94ba37d3630ba2f96da156f3d4183b6dafbf7bce146ad724d5f24306e6815c789b7404274ee914051056642bdc6d13f00ecb89846e9dc8683374c664703e3eb277fd4e8c5eb4a3bf3d097aab0336e80e68203df2890e4aaec33245c9d3e4fe745e2087076b04b52b8cc93250ca9093d7b5fa09e777108a8ffa87a7fc1139dbaee4557fca69662d3af26c3a7f0b40cafced59001d7f29398ead25cf827ff341240f3f73fd5d6a933e551875889c8da4a2eb6da1dcc2e48747af6503e5674cdcba634658ec8236e5b03f313c86afa669a0e648a9a60fea7ed8843425fe9a48368c338015e8f909d3a9f4d5264a06998e9cdd7f0e1bcb113aa0507b6f3d05'\n",
        "\n",
        "KAGGLE_INPUT_PATH='/kaggle/input'\n",
        "KAGGLE_WORKING_PATH='/kaggle/working'\n",
        "KAGGLE_SYMLINK='kaggle'\n",
        "\n",
        "!umount /kaggle/input/ 2> /dev/null\n",
        "shutil.rmtree('/kaggle/input', ignore_errors=True)\n",
        "os.makedirs(KAGGLE_INPUT_PATH, 0o777, exist_ok=True)\n",
        "os.makedirs(KAGGLE_WORKING_PATH, 0o777, exist_ok=True)\n",
        "\n",
        "try:\n",
        "  os.symlink(KAGGLE_INPUT_PATH, os.path.join(\"..\", 'input'), target_is_directory=True)\n",
        "except FileExistsError:\n",
        "  pass\n",
        "try:\n",
        "  os.symlink(KAGGLE_WORKING_PATH, os.path.join(\"..\", 'working'), target_is_directory=True)\n",
        "except FileExistsError:\n",
        "  pass\n",
        "\n",
        "for data_source_mapping in DATA_SOURCE_MAPPING.split(','):\n",
        "    directory, download_url_encoded = data_source_mapping.split(':')\n",
        "    download_url = unquote(download_url_encoded)\n",
        "    filename = urlparse(download_url).path\n",
        "    destination_path = os.path.join(KAGGLE_INPUT_PATH, directory)\n",
        "    try:\n",
        "        with urlopen(download_url) as fileres, NamedTemporaryFile() as tfile:\n",
        "            total_length = fileres.headers['content-length']\n",
        "            print(f'Downloading {directory}, {total_length} bytes compressed')\n",
        "            dl = 0\n",
        "            data = fileres.read(CHUNK_SIZE)\n",
        "            while len(data) > 0:\n",
        "                dl += len(data)\n",
        "                tfile.write(data)\n",
        "                done = int(50 * dl / int(total_length))\n",
        "                sys.stdout.write(f\"\\r[{'=' * done}{' ' * (50-done)}] {dl} bytes downloaded\")\n",
        "                sys.stdout.flush()\n",
        "                data = fileres.read(CHUNK_SIZE)\n",
        "            if filename.endswith('.zip'):\n",
        "              with ZipFile(tfile) as zfile:\n",
        "                zfile.extractall(destination_path)\n",
        "            else:\n",
        "              with tarfile.open(tfile.name) as tarfile:\n",
        "                tarfile.extractall(destination_path)\n",
        "            print(f'\\nDownloaded and uncompressed: {directory}')\n",
        "    except HTTPError as e:\n",
        "        print(f'Failed to load (likely expired) {download_url} to path {destination_path}')\n",
        "        continue\n",
        "    except OSError as e:\n",
        "        print(f'Failed to load {download_url} to path {destination_path}')\n",
        "        continue\n",
        "\n",
        "print('Data source import complete.')\n"
      ],
      "metadata": {
        "id": "6yJQO2tmdIOo"
      },
      "cell_type": "code",
      "outputs": [],
      "execution_count": null
    },
    {
      "cell_type": "markdown",
      "source": [
        "# 📈 **Linear Regression**"
      ],
      "metadata": {
        "id": "oC_0iICXdIOw"
      }
    },
    {
      "cell_type": "markdown",
      "source": [
        "**In Machine Learning and this notebook we use Scikit-learn a lot.**\n",
        "\n",
        "<a href=\"https://uupload.ir/\" target=\"_blank\"><img src=\"https://s4.uupload.ir/files/download_(1)_slz6.png\" border=\"0\" alt=\"آپلود عکس\" /></a>\n",
        "\n",
        "### **What is scikit-learn used for?**\n",
        "\n",
        "Scikit-learn (Sklearn) is the most useful and robust library for machine learning in Python. It provides a selection of efficient tools for machine learning and statistical modeling including classification, regression, clustering and dimensionality reduction via a consistence interface in Python."
      ],
      "metadata": {
        "id": "CVOLpAO4dIOz"
      }
    },
    {
      "cell_type": "markdown",
      "source": [
        "#### **What is linear regression used for?**\n",
        "\n",
        "Linear regression analysis is used to predict the value of a variable based on the value of another variable. The variable you want to predict is called the dependent variable. The variable you are using to predict the other variable's value is called the independent variable."
      ],
      "metadata": {
        "id": "Q436SfQRdIO0"
      }
    },
    {
      "cell_type": "markdown",
      "source": [
        "# **Making Predictions with Linear Regression**\n",
        "\n",
        "Given the representation is a linear equation, making predictions is as simple as solving the equation for a specific set of inputs.\n",
        "\n",
        "Let’s make this concrete with an example. Imagine we are predicting weight (y) from height (x). Our linear regression model representation for this problem would be:\n",
        "\n",
        "**y = B0 + B1 * x1**\n",
        "\n",
        "or\n",
        "\n",
        "**weight =B0 +B1 * height**\n",
        "\n",
        "Where B0 is the bias coefficient and B1 is the coefficient for the height column. We use a learning technique to find a good set of coefficient values. Once found, we can plug in different height values to predict the weight.\n",
        "\n",
        "For example, lets use B0 = 0.1 and B1 = 0.5. Let’s plug them in and calculate the weight (in kilograms) for a person with the height of 182 centimeters.\n",
        "\n",
        "weight = 0.1 + 0.5 * 182\n",
        "\n",
        "weight = 91.1\n",
        "\n",
        "You can see that the above equation could be plotted as a line in two-dimensions. The B0 is our starting point regardless of what height we have. We can run through a bunch of heights from 100 to 250 centimeters and plug them to the equation and get weight values, creating our line."
      ],
      "metadata": {
        "id": "WmyMmGJ1dIO0"
      }
    },
    {
      "cell_type": "markdown",
      "source": [
        "<a href=\"https://uupload.ir/\" target=\"_blank\"><img src=\"https://s4.uupload.ir/files/sample-height-vs-weight-linear-regression_10h7.png\" border=\"0\" alt=\"آپلود عکس\" /></a>"
      ],
      "metadata": {
        "id": "4kxOdRdJdIO1"
      }
    },
    {
      "cell_type": "markdown",
      "source": [
        "Now that we know how to make predictions given a learned linear regression model, let’s look at some rules of thumb for preparing our data to make the most of this type of model."
      ],
      "metadata": {
        "id": "sBqBQIVldIO2"
      }
    },
    {
      "cell_type": "markdown",
      "source": [
        "# 📤 Import & Install Libraries"
      ],
      "metadata": {
        "id": "vLRIdTy5dIO3"
      }
    },
    {
      "cell_type": "code",
      "source": [
        "!pip install hvplot"
      ],
      "metadata": {
        "_kg_hide-output": true,
        "execution": {
          "iopub.status.busy": "2022-02-12T06:16:32.547755Z",
          "iopub.execute_input": "2022-02-12T06:16:32.548213Z",
          "iopub.status.idle": "2022-02-12T06:16:41.837029Z",
          "shell.execute_reply.started": "2022-02-12T06:16:32.548098Z",
          "shell.execute_reply": "2022-02-12T06:16:41.836041Z"
        },
        "trusted": true,
        "id": "cRbKoyzsdIO4"
      },
      "execution_count": null,
      "outputs": []
    },
    {
      "cell_type": "code",
      "source": [
        "import pandas as pd\n",
        "import numpy as np\n",
        "import matplotlib.pyplot as plt\n",
        "import seaborn as sns\n",
        "import hvplot.pandas\n",
        "\n",
        "from sklearn.model_selection import train_test_split\n",
        "\n",
        "from sklearn import metrics\n",
        "\n",
        "from sklearn.linear_model import LinearRegression\n",
        "\n",
        "%matplotlib inline"
      ],
      "metadata": {
        "_uuid": "8f2839f25d086af736a60e9eeb907d3b93b6e0e5",
        "_cell_guid": "b1076dfc-b9ad-4769-8c92-a6c4dae69d19",
        "execution": {
          "iopub.status.busy": "2022-02-12T06:16:41.838545Z",
          "iopub.execute_input": "2022-02-12T06:16:41.838838Z",
          "iopub.status.idle": "2022-02-12T06:16:45.462385Z",
          "shell.execute_reply.started": "2022-02-12T06:16:41.838805Z",
          "shell.execute_reply": "2022-02-12T06:16:45.461308Z"
        },
        "trusted": true,
        "id": "DGmn77XfdIO4"
      },
      "execution_count": null,
      "outputs": []
    },
    {
      "cell_type": "markdown",
      "source": [
        "## 💾 Check out the Data"
      ],
      "metadata": {
        "id": "rc8NYbM4dIO5"
      }
    },
    {
      "cell_type": "code",
      "source": [
        "df=pd.read_csv('../input/real-estate-price-prediction/Real estate.csv')"
      ],
      "metadata": {
        "execution": {
          "iopub.status.busy": "2022-02-12T06:16:45.464442Z",
          "iopub.execute_input": "2022-02-12T06:16:45.464764Z",
          "iopub.status.idle": "2022-02-12T06:16:45.484555Z",
          "shell.execute_reply.started": "2022-02-12T06:16:45.464729Z",
          "shell.execute_reply": "2022-02-12T06:16:45.483626Z"
        },
        "trusted": true,
        "id": "4ixEKceFdIO6"
      },
      "execution_count": null,
      "outputs": []
    },
    {
      "cell_type": "code",
      "source": [
        "df.head()"
      ],
      "metadata": {
        "execution": {
          "iopub.status.busy": "2022-02-12T06:16:45.487621Z",
          "iopub.execute_input": "2022-02-12T06:16:45.488145Z",
          "iopub.status.idle": "2022-02-12T06:16:45.520562Z",
          "shell.execute_reply.started": "2022-02-12T06:16:45.48811Z",
          "shell.execute_reply": "2022-02-12T06:16:45.51979Z"
        },
        "trusted": true,
        "id": "6mCihf39dIO6"
      },
      "execution_count": null,
      "outputs": []
    },
    {
      "cell_type": "code",
      "source": [
        "df.shape"
      ],
      "metadata": {
        "execution": {
          "iopub.status.busy": "2022-02-12T06:16:45.521902Z",
          "iopub.execute_input": "2022-02-12T06:16:45.52255Z",
          "iopub.status.idle": "2022-02-12T06:16:45.529966Z",
          "shell.execute_reply.started": "2022-02-12T06:16:45.522501Z",
          "shell.execute_reply": "2022-02-12T06:16:45.528795Z"
        },
        "trusted": true,
        "id": "e_SH308WdIO6"
      },
      "execution_count": null,
      "outputs": []
    },
    {
      "cell_type": "code",
      "source": [
        "df.info()"
      ],
      "metadata": {
        "execution": {
          "iopub.status.busy": "2022-02-12T06:16:45.531731Z",
          "iopub.execute_input": "2022-02-12T06:16:45.532491Z",
          "iopub.status.idle": "2022-02-12T06:16:45.556282Z",
          "shell.execute_reply.started": "2022-02-12T06:16:45.532453Z",
          "shell.execute_reply": "2022-02-12T06:16:45.555176Z"
        },
        "trusted": true,
        "id": "G_6O1-gbdIO6"
      },
      "execution_count": null,
      "outputs": []
    },
    {
      "cell_type": "code",
      "source": [
        "df.corr()"
      ],
      "metadata": {
        "execution": {
          "iopub.status.busy": "2022-02-12T06:16:45.557667Z",
          "iopub.execute_input": "2022-02-12T06:16:45.557966Z",
          "iopub.status.idle": "2022-02-12T06:16:45.581314Z",
          "shell.execute_reply.started": "2022-02-12T06:16:45.557937Z",
          "shell.execute_reply": "2022-02-12T06:16:45.580238Z"
        },
        "trusted": true,
        "id": "2SS0eSHGdIO7"
      },
      "execution_count": null,
      "outputs": []
    },
    {
      "cell_type": "code",
      "source": [
        "sns.heatmap(df.corr(), annot=True,cmap='Reds')"
      ],
      "metadata": {
        "execution": {
          "iopub.status.busy": "2022-02-12T06:16:45.582354Z",
          "iopub.execute_input": "2022-02-12T06:16:45.582748Z",
          "iopub.status.idle": "2022-02-12T06:16:46.391368Z",
          "shell.execute_reply.started": "2022-02-12T06:16:45.582719Z",
          "shell.execute_reply": "2022-02-12T06:16:46.390228Z"
        },
        "trusted": true,
        "id": "9XCXsGXndIO7"
      },
      "execution_count": null,
      "outputs": []
    },
    {
      "cell_type": "markdown",
      "source": [
        "# 📊 Exploratory Data Analysis (EDA)"
      ],
      "metadata": {
        "id": "RD3iKjh_dIO7"
      }
    },
    {
      "cell_type": "code",
      "source": [
        "sns.pairplot(df)"
      ],
      "metadata": {
        "execution": {
          "iopub.status.busy": "2022-02-12T06:16:46.394021Z",
          "iopub.execute_input": "2022-02-12T06:16:46.394354Z",
          "iopub.status.idle": "2022-02-12T06:17:00.018258Z",
          "shell.execute_reply.started": "2022-02-12T06:16:46.394321Z",
          "shell.execute_reply": "2022-02-12T06:17:00.017434Z"
        },
        "trusted": true,
        "id": "DYYgC9t4dIO7"
      },
      "execution_count": null,
      "outputs": []
    },
    {
      "cell_type": "markdown",
      "source": [
        "# 📈 Training a Linear Regression Model\n",
        "\n",
        "## X and y arrays"
      ],
      "metadata": {
        "id": "nwYp7sWudIO7"
      }
    },
    {
      "cell_type": "code",
      "source": [
        "X=df.drop('Y house price of unit area', axis=1)\n",
        "\n",
        "y=df['X4 number of convenience stores']"
      ],
      "metadata": {
        "execution": {
          "iopub.status.busy": "2022-02-12T06:17:00.019818Z",
          "iopub.execute_input": "2022-02-12T06:17:00.020126Z",
          "iopub.status.idle": "2022-02-12T06:17:00.026593Z",
          "shell.execute_reply.started": "2022-02-12T06:17:00.020094Z",
          "shell.execute_reply": "2022-02-12T06:17:00.024995Z"
        },
        "trusted": true,
        "id": "49BlbDCwdIO8"
      },
      "execution_count": null,
      "outputs": []
    },
    {
      "cell_type": "code",
      "source": [
        "print(\"X=\",X.shape,\"\\ny=\", y.shape)"
      ],
      "metadata": {
        "execution": {
          "iopub.status.busy": "2022-02-12T06:17:00.027899Z",
          "iopub.execute_input": "2022-02-12T06:17:00.028261Z",
          "iopub.status.idle": "2022-02-12T06:17:00.054438Z",
          "shell.execute_reply.started": "2022-02-12T06:17:00.028189Z",
          "shell.execute_reply": "2022-02-12T06:17:00.053206Z"
        },
        "trusted": true,
        "id": "rZ7j3McEdIO8"
      },
      "execution_count": null,
      "outputs": []
    },
    {
      "cell_type": "markdown",
      "source": [
        "## 🧱 Train Test Split\n",
        "\n",
        "Now let's split the data into a training set and a testing set. We will train out model on the training set and then use the test set to evaluate the model."
      ],
      "metadata": {
        "id": "fgUIzA4JdIO8"
      }
    },
    {
      "cell_type": "code",
      "source": [
        "X_train, X_test, y_train, y_test = train_test_split(X, y, test_size=0.3, random_state=101)"
      ],
      "metadata": {
        "execution": {
          "iopub.status.busy": "2022-02-12T06:17:00.057023Z",
          "iopub.execute_input": "2022-02-12T06:17:00.057398Z",
          "iopub.status.idle": "2022-02-12T06:17:00.066186Z",
          "shell.execute_reply.started": "2022-02-12T06:17:00.057356Z",
          "shell.execute_reply": "2022-02-12T06:17:00.065276Z"
        },
        "trusted": true,
        "id": "Y_bV-ZDudIO8"
      },
      "execution_count": null,
      "outputs": []
    },
    {
      "cell_type": "code",
      "source": [
        "X_train.shape"
      ],
      "metadata": {
        "execution": {
          "iopub.status.busy": "2022-02-12T06:17:00.068345Z",
          "iopub.execute_input": "2022-02-12T06:17:00.068839Z",
          "iopub.status.idle": "2022-02-12T06:17:00.079497Z",
          "shell.execute_reply.started": "2022-02-12T06:17:00.068791Z",
          "shell.execute_reply": "2022-02-12T06:17:00.078497Z"
        },
        "trusted": true,
        "id": "tnKjqx_ddIO8"
      },
      "execution_count": null,
      "outputs": []
    },
    {
      "cell_type": "code",
      "source": [
        "X_test.shape"
      ],
      "metadata": {
        "execution": {
          "iopub.status.busy": "2022-02-12T06:17:00.081119Z",
          "iopub.execute_input": "2022-02-12T06:17:00.081767Z",
          "iopub.status.idle": "2022-02-12T06:17:00.091656Z",
          "shell.execute_reply.started": "2022-02-12T06:17:00.08172Z",
          "shell.execute_reply": "2022-02-12T06:17:00.090117Z"
        },
        "trusted": true,
        "id": "FcLNZlFddIO8"
      },
      "execution_count": null,
      "outputs": []
    },
    {
      "cell_type": "markdown",
      "source": [
        "# ✔️ Linear Regression"
      ],
      "metadata": {
        "id": "ojA3XDe7dIO9"
      }
    },
    {
      "cell_type": "code",
      "source": [
        "model = LinearRegression()"
      ],
      "metadata": {
        "execution": {
          "iopub.status.busy": "2022-02-12T06:17:00.092948Z",
          "iopub.execute_input": "2022-02-12T06:17:00.093433Z",
          "iopub.status.idle": "2022-02-12T06:17:00.102321Z",
          "shell.execute_reply.started": "2022-02-12T06:17:00.0934Z",
          "shell.execute_reply": "2022-02-12T06:17:00.10137Z"
        },
        "trusted": true,
        "id": "YSB4qJLGdIO9"
      },
      "execution_count": null,
      "outputs": []
    },
    {
      "cell_type": "code",
      "source": [
        "model.fit(X_train, y_train)"
      ],
      "metadata": {
        "execution": {
          "iopub.status.busy": "2022-02-12T06:17:00.103754Z",
          "iopub.execute_input": "2022-02-12T06:17:00.104039Z",
          "iopub.status.idle": "2022-02-12T06:17:00.287372Z",
          "shell.execute_reply.started": "2022-02-12T06:17:00.104012Z",
          "shell.execute_reply": "2022-02-12T06:17:00.286482Z"
        },
        "trusted": true,
        "id": "s38MjqnOdIO9"
      },
      "execution_count": null,
      "outputs": []
    },
    {
      "cell_type": "markdown",
      "source": [
        "## ✔️ Model Evaluation"
      ],
      "metadata": {
        "id": "y8DJax_mdIO9"
      }
    },
    {
      "cell_type": "code",
      "source": [
        "model.coef_"
      ],
      "metadata": {
        "execution": {
          "iopub.status.busy": "2022-02-12T06:17:00.288542Z",
          "iopub.execute_input": "2022-02-12T06:17:00.288837Z",
          "iopub.status.idle": "2022-02-12T06:17:00.295441Z",
          "shell.execute_reply.started": "2022-02-12T06:17:00.288801Z",
          "shell.execute_reply": "2022-02-12T06:17:00.294314Z"
        },
        "trusted": true,
        "id": "5sBVOlQudIO9"
      },
      "execution_count": null,
      "outputs": []
    },
    {
      "cell_type": "code",
      "source": [
        "pd.DataFrame(model.coef_, X.columns, columns=['Coedicients'])"
      ],
      "metadata": {
        "execution": {
          "iopub.status.busy": "2022-02-12T06:17:00.296911Z",
          "iopub.execute_input": "2022-02-12T06:17:00.297331Z",
          "iopub.status.idle": "2022-02-12T06:17:00.312666Z",
          "shell.execute_reply.started": "2022-02-12T06:17:00.297291Z",
          "shell.execute_reply": "2022-02-12T06:17:00.311796Z"
        },
        "trusted": true,
        "id": "eo3sqPg0dIO9"
      },
      "execution_count": null,
      "outputs": []
    },
    {
      "cell_type": "markdown",
      "source": [
        "## ✔️ Predictions from our Model"
      ],
      "metadata": {
        "id": "73L2x2RWdIO-"
      }
    },
    {
      "cell_type": "code",
      "source": [
        "y_pred = model.predict(X_test)"
      ],
      "metadata": {
        "execution": {
          "iopub.status.busy": "2022-02-12T06:17:00.314029Z",
          "iopub.execute_input": "2022-02-12T06:17:00.314522Z",
          "iopub.status.idle": "2022-02-12T06:17:00.327735Z",
          "shell.execute_reply.started": "2022-02-12T06:17:00.314489Z",
          "shell.execute_reply": "2022-02-12T06:17:00.326738Z"
        },
        "trusted": true,
        "id": "rLk6DCP_dIO-"
      },
      "execution_count": null,
      "outputs": []
    },
    {
      "cell_type": "markdown",
      "source": [
        "## ✔️ Regression Evaluation Metrics\n",
        "\n",
        "\n",
        "Here are three common evaluation metrics for regression problems:\n",
        "\n",
        "> - **Mean Absolute Error** (MAE) is the mean of the absolute value of the errors:\n",
        "$$\\frac 1n\\sum_{i=1}^n|y_i-\\hat{y}_i|$$\n",
        "\n",
        "> - **Mean Squared Error** (MSE) is the mean of the squared errors:\n",
        "$$\\frac 1n\\sum_{i=1}^n(y_i-\\hat{y}_i)^2$$\n",
        "\n",
        "> - **Root Mean Squared Error** (RMSE) is the square root of the mean of the squared errors:\n",
        "$$\\sqrt{\\frac 1n\\sum_{i=1}^n(y_i-\\hat{y}_i)^2}$$\n",
        "\n",
        "> 📌 Comparing these metrics:\n",
        "- **MAE** is the easiest to understand, because it's the average error.\n",
        "- **MSE** is more popular than MAE, because MSE \"punishes\" larger errors, which tends to be useful in the real world.\n",
        "- **RMSE** is even more popular than MSE, because RMSE is interpretable in the \"y\" units.\n",
        "\n",
        "> All of these are **loss functions**, because we want to minimize them."
      ],
      "metadata": {
        "id": "spq20EzmdIO-"
      }
    },
    {
      "cell_type": "code",
      "source": [
        "MAE= metrics.mean_absolute_error(y_test, y_pred)\n",
        "MSE=metrics.mean_squared_error(y_test, y_pred)\n",
        "RMSE= np.sqrt(MSE)"
      ],
      "metadata": {
        "execution": {
          "iopub.status.busy": "2022-02-12T06:17:00.329059Z",
          "iopub.execute_input": "2022-02-12T06:17:00.329397Z",
          "iopub.status.idle": "2022-02-12T06:17:00.33994Z",
          "shell.execute_reply.started": "2022-02-12T06:17:00.329368Z",
          "shell.execute_reply": "2022-02-12T06:17:00.33911Z"
        },
        "trusted": true,
        "id": "pjKR8d1idIO-"
      },
      "execution_count": null,
      "outputs": []
    },
    {
      "cell_type": "code",
      "source": [
        "MAE"
      ],
      "metadata": {
        "execution": {
          "iopub.status.busy": "2022-02-12T06:17:00.341019Z",
          "iopub.execute_input": "2022-02-12T06:17:00.341497Z",
          "iopub.status.idle": "2022-02-12T06:17:00.3535Z",
          "shell.execute_reply.started": "2022-02-12T06:17:00.341467Z",
          "shell.execute_reply": "2022-02-12T06:17:00.352515Z"
        },
        "trusted": true,
        "id": "mbrgFUd1dIO-"
      },
      "execution_count": null,
      "outputs": []
    },
    {
      "cell_type": "code",
      "source": [
        "MSE"
      ],
      "metadata": {
        "execution": {
          "iopub.status.busy": "2022-02-12T06:17:00.354848Z",
          "iopub.execute_input": "2022-02-12T06:17:00.355169Z",
          "iopub.status.idle": "2022-02-12T06:17:00.365271Z",
          "shell.execute_reply.started": "2022-02-12T06:17:00.355128Z",
          "shell.execute_reply": "2022-02-12T06:17:00.364402Z"
        },
        "trusted": true,
        "id": "Q04AowF8dIO-"
      },
      "execution_count": null,
      "outputs": []
    },
    {
      "cell_type": "code",
      "source": [
        "RMSE"
      ],
      "metadata": {
        "execution": {
          "iopub.status.busy": "2022-02-12T06:17:00.366552Z",
          "iopub.execute_input": "2022-02-12T06:17:00.367023Z",
          "iopub.status.idle": "2022-02-12T06:17:00.376773Z",
          "shell.execute_reply.started": "2022-02-12T06:17:00.366992Z",
          "shell.execute_reply": "2022-02-12T06:17:00.375979Z"
        },
        "trusted": true,
        "id": "XBrFW2ZVdIO-"
      },
      "execution_count": null,
      "outputs": []
    },
    {
      "cell_type": "code",
      "source": [
        "df['X4 number of convenience stores'].mean()"
      ],
      "metadata": {
        "execution": {
          "iopub.status.busy": "2022-02-12T06:17:00.378023Z",
          "iopub.execute_input": "2022-02-12T06:17:00.37854Z",
          "iopub.status.idle": "2022-02-12T06:17:00.389503Z",
          "shell.execute_reply.started": "2022-02-12T06:17:00.378497Z",
          "shell.execute_reply": "2022-02-12T06:17:00.388681Z"
        },
        "trusted": true,
        "id": "5zsSVEdNdIPE"
      },
      "execution_count": null,
      "outputs": []
    },
    {
      "cell_type": "markdown",
      "source": [
        "## **Residual Histogram**\n",
        "\n",
        "* **Often for Linear Regression it is a good idea to separately evaluate residuals $$(y-\\hat{y})$$ and not just calculate performance metrics (e.g. RMSE).**\n",
        "\n",
        "* **Let's explore why this is important...**\n",
        "\n",
        "* **The residual eerors should be random and close to a normal distribution.**\n",
        "\n",
        "\n",
        "<a href=\"https://uupload.ir/\" target=\"_blank\"><img src=\"https://s4.uupload.ir/files/download_ycg.png\" border=\"0\" alt=\"آپلود عکس\" /></a>\n",
        "\n",
        "<a href=\"https://uupload.ir/\" target=\"_blank\"><img src=\"https://s4.uupload.ir/files/2_pe68.png\" border=\"0\" alt=\"آپلود عکس\" /></a>"
      ],
      "metadata": {
        "id": "ILF9-BecdIPE"
      }
    },
    {
      "cell_type": "code",
      "source": [
        "test_residual= y_test - y_pred"
      ],
      "metadata": {
        "execution": {
          "iopub.status.busy": "2022-02-12T06:17:00.390813Z",
          "iopub.execute_input": "2022-02-12T06:17:00.391346Z",
          "iopub.status.idle": "2022-02-12T06:17:00.398893Z",
          "shell.execute_reply.started": "2022-02-12T06:17:00.391314Z",
          "shell.execute_reply": "2022-02-12T06:17:00.398131Z"
        },
        "trusted": true,
        "id": "DnV4q8AydIPE"
      },
      "execution_count": null,
      "outputs": []
    },
    {
      "cell_type": "code",
      "source": [
        "pd.DataFrame({'Error Values': (test_residual)}).hvplot.kde()"
      ],
      "metadata": {
        "execution": {
          "iopub.status.busy": "2022-02-12T06:17:00.400121Z",
          "iopub.execute_input": "2022-02-12T06:17:00.400609Z",
          "iopub.status.idle": "2022-02-12T06:17:00.523372Z",
          "shell.execute_reply.started": "2022-02-12T06:17:00.400577Z",
          "shell.execute_reply": "2022-02-12T06:17:00.522388Z"
        },
        "trusted": true,
        "id": "E4wFi1BedIPE"
      },
      "execution_count": null,
      "outputs": []
    },
    {
      "cell_type": "code",
      "source": [
        "sns.displot(test_residual, bins=25, kde=True)"
      ],
      "metadata": {
        "execution": {
          "iopub.status.busy": "2022-02-12T06:17:00.526349Z",
          "iopub.execute_input": "2022-02-12T06:17:00.526663Z",
          "iopub.status.idle": "2022-02-12T06:17:00.904371Z",
          "shell.execute_reply.started": "2022-02-12T06:17:00.526632Z",
          "shell.execute_reply": "2022-02-12T06:17:00.903002Z"
        },
        "trusted": true,
        "id": "eLUMMrm_dIPE"
      },
      "execution_count": null,
      "outputs": []
    },
    {
      "cell_type": "markdown",
      "source": [
        "* **Residual plot shows residual error VS. true y value.**"
      ],
      "metadata": {
        "id": "8WmS1q__dIPE"
      }
    },
    {
      "cell_type": "code",
      "source": [
        "sns.scatterplot(x=y_test, y=test_residual)\n",
        "\n",
        "plt.axhline(y=0, color='r', ls='--')"
      ],
      "metadata": {
        "execution": {
          "iopub.status.busy": "2022-02-12T06:17:00.906059Z",
          "iopub.execute_input": "2022-02-12T06:17:00.906727Z",
          "iopub.status.idle": "2022-02-12T06:17:01.158875Z",
          "shell.execute_reply.started": "2022-02-12T06:17:00.90668Z",
          "shell.execute_reply": "2022-02-12T06:17:01.157632Z"
        },
        "trusted": true,
        "id": "I3R4p4jldIPF"
      },
      "execution_count": null,
      "outputs": []
    },
    {
      "cell_type": "markdown",
      "source": [
        "* **Residualplot showing a clear pattern, indicating Linear Regression no valid!**"
      ],
      "metadata": {
        "id": "DgZSg05jdIPF"
      }
    },
    {
      "cell_type": "markdown",
      "source": [
        "# Finished, but you can copy this notebook and start practicing."
      ],
      "metadata": {
        "id": "9-9XAy1ldIPF"
      }
    }
  ]
}