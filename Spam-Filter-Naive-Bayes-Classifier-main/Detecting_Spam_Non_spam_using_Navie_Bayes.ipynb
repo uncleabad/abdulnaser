{
  "cells": [
    {
      "cell_type": "markdown",
      "metadata": {
        "id": "view-in-github",
        "colab_type": "text"
      },
      "source": [
        "<a href=\"https://colab.research.google.com/github/MagedAlmoliki1/Spam-Filter-Naive-Bayes-Classifier/blob/main/Detecting_Spam_Non_spam_using_Navie_Bayes.ipynb\" target=\"_parent\"><img src=\"https://colab.research.google.com/assets/colab-badge.svg\" alt=\"Open In Colab\"/></a>"
      ]
    },
    {
      "source": [
        "\n",
        "# IMPORTANT: RUN THIS CELL IN ORDER TO IMPORT YOUR KAGGLE DATA SOURCES\n",
        "# TO THE CORRECT LOCATION (/kaggle/input) IN YOUR NOTEBOOK,\n",
        "# THEN FEEL FREE TO DELETE THIS CELL.\n",
        "# NOTE: THIS NOTEBOOK ENVIRONMENT DIFFERS FROM KAGGLE'S PYTHON\n",
        "# ENVIRONMENT SO THERE MAY BE MISSING LIBRARIES USED BY YOUR\n",
        "# NOTEBOOK.\n",
        "\n",
        "import os\n",
        "import sys\n",
        "from tempfile import NamedTemporaryFile\n",
        "from urllib.request import urlopen\n",
        "from urllib.parse import unquote, urlparse\n",
        "from urllib.error import HTTPError\n",
        "from zipfile import ZipFile\n",
        "import tarfile\n",
        "import shutil\n",
        "\n",
        "CHUNK_SIZE = 40960\n",
        "DATA_SOURCE_MAPPING = ':https%3A%2F%2Fstorage.googleapis.com%2Fkaggle-data-sets%2F483%2F982%2Fbundle%2Farchive.zip%3FX-Goog-Algorithm%3DGOOG4-RSA-SHA256%26X-Goog-Credential%3Dgcp-kaggle-com%2540kaggle-161607.iam.gserviceaccount.com%252F20241012%252Fauto%252Fstorage%252Fgoog4_request%26X-Goog-Date%3D20241012T020443Z%26X-Goog-Expires%3D259200%26X-Goog-SignedHeaders%3Dhost%26X-Goog-Signature%3D407dab35649b2d371f8ec521e2fd931e11be25f068ce4cb3c3938d0749bf8d2aea38cc61826a35815889851c566cbe556cee03e10f66fb5b99c979cc2c341ab7e7a448e5fefa47b15f5ab51c537872f554b08bbc3b28a26170b8778e0c49a7a36264db2b74ed6a718cd95fb66ffc51a37a89a1ea32f737db955f6fb1200d397436f0625d9f5bfce1054b61c354df564d59836961d175036e8c9c2e6b63ac166b1b93055222bb563653f81582f93383a728b86ae0b21f72f5e44c813894bf7a4db1a3777674e70c8057cc98519659e44e355001fed532e673361db86d34653b225378f26bb90de847b575249e654f9de814bcf700f8c380adaf334475401112c5'\n",
        "\n",
        "KAGGLE_INPUT_PATH='/kaggle/input'\n",
        "KAGGLE_WORKING_PATH='/kaggle/working'\n",
        "KAGGLE_SYMLINK='kaggle'\n",
        "\n",
        "!umount /kaggle/input/ 2> /dev/null\n",
        "shutil.rmtree('/kaggle/input', ignore_errors=True)\n",
        "os.makedirs(KAGGLE_INPUT_PATH, 0o777, exist_ok=True)\n",
        "os.makedirs(KAGGLE_WORKING_PATH, 0o777, exist_ok=True)\n",
        "\n",
        "try:\n",
        "  os.symlink(KAGGLE_INPUT_PATH, os.path.join(\"..\", 'input'), target_is_directory=True)\n",
        "except FileExistsError:\n",
        "  pass\n",
        "try:\n",
        "  os.symlink(KAGGLE_WORKING_PATH, os.path.join(\"..\", 'working'), target_is_directory=True)\n",
        "except FileExistsError:\n",
        "  pass\n",
        "\n",
        "for data_source_mapping in DATA_SOURCE_MAPPING.split(','):\n",
        "    directory, download_url_encoded = data_source_mapping.split(':')\n",
        "    download_url = unquote(download_url_encoded)\n",
        "    filename = urlparse(download_url).path\n",
        "    destination_path = os.path.join(KAGGLE_INPUT_PATH, directory)\n",
        "    try:\n",
        "        with urlopen(download_url) as fileres, NamedTemporaryFile() as tfile:\n",
        "            total_length = fileres.headers['content-length']\n",
        "            print(f'Downloading {directory}, {total_length} bytes compressed')\n",
        "            dl = 0\n",
        "            data = fileres.read(CHUNK_SIZE)\n",
        "            while len(data) > 0:\n",
        "                dl += len(data)\n",
        "                tfile.write(data)\n",
        "                done = int(50 * dl / int(total_length))\n",
        "                sys.stdout.write(f\"\\r[{'=' * done}{' ' * (50-done)}] {dl} bytes downloaded\")\n",
        "                sys.stdout.flush()\n",
        "                data = fileres.read(CHUNK_SIZE)\n",
        "            if filename.endswith('.zip'):\n",
        "              with ZipFile(tfile) as zfile:\n",
        "                zfile.extractall(destination_path)\n",
        "            else:\n",
        "              with tarfile.open(tfile.name) as tarfile:\n",
        "                tarfile.extractall(destination_path)\n",
        "            print(f'\\nDownloaded and uncompressed: {directory}')\n",
        "    except HTTPError as e:\n",
        "        print(f'Failed to load (likely expired) {download_url} to path {destination_path}')\n",
        "        continue\n",
        "    except OSError as e:\n",
        "        print(f'Failed to load {download_url} to path {destination_path}')\n",
        "        continue\n",
        "\n",
        "print('Data source import complete.')\n"
      ],
      "metadata": {
        "id": "8j1-eR84eJkX"
      },
      "cell_type": "code",
      "outputs": [],
      "execution_count": null
    },
    {
      "metadata": {
        "id": "uv9mz0q_eJke"
      },
      "cell_type": "markdown",
      "source": [
        "# Navie Bayes Classification"
      ]
    },
    {
      "metadata": {
        "id": "SzJs1-E_eJkg"
      },
      "cell_type": "markdown",
      "source": [
        "**Naive Bayes (NB**) is ‘naive’ because it makes the assumption that features of a measurement are independent of each other. This is naive because it is (almost) never true. Here is why NB works anyway.\n",
        "\n",
        "* A naive Bayes classifier is an algorithm that uses Bayes' theorem to classify objects. Naive Bayes classifiers assume strong, or naive, independence between attributes of data points. Popular uses of naive Bayes classifiers include spam filters, text analysis and medical diagnosis. These classifiers are widely used for machine learning because they are simple to implement.\n",
        "\n",
        "* Naive Bayes is also known as simple Bayes or independence Bayes.\n",
        "\n",
        "* A naive Bayes classifier uses probability theory to classify data. Naive Bayes classifier algorithms make use of Bayes' theorem. The key insight of Bayes' theorem is that the probability of an event can be adjusted as new data is introduced.\n",
        "\n",
        "* A naive Bayes classifier is not a single algorithm, but a family of machine learning algorithms that make uses of statistical independence. These algorithms are relatively easy to write and run more efficiently than more complex Bayes algorithms.\n",
        "\n",
        "* The most popular application is spam filters. A spam filter looks at email messages for certain key words and puts them in a spam folder if they match.\n",
        "\n",
        "* Despite the name, the more data it gets, the more accurate a naive Bayes classifier becomes, such as from a user flagging email messages in an inbox for spam.\n",
        "\n",
        "* What makes a naive Bayes classifier naive is its assumption that all attributes of a data point under consideration are independent of each other. A classifier sorting fruits into apples and oranges would know that apples are red, round and are a certain size, but would not assume all these things at once. Oranges are round too, after all.\n",
        "\n",
        "* One of the major advantages that Naive Bayes has over other classification algorithms is its ability to handle an extremely large number of features. In our case, each word is treated as a feature and there are thousands of different words. Also, it performs well even with the presence of irrelevant features and is relatively unaffected by them.\n",
        "\n",
        "* The other major advantage it has is its relative simplicity. Naive Bayes' works well right out of the box and tuning it's parameters is rarely ever necessary, except usually in cases where the distribution of the data is known.\n",
        "\n",
        "It rarely ever overfits the data.\n",
        "\n",
        "Another important advantage is that its model training and prediction times are very fast for the amount of data it can handle.\n",
        "\n"
      ]
    },
    {
      "metadata": {
        "_uuid": "8f2839f25d086af736a60e9eeb907d3b93b6e0e5",
        "_cell_guid": "b1076dfc-b9ad-4769-8c92-a6c4dae69d19",
        "trusted": true,
        "id": "UVURdcoieJkh"
      },
      "cell_type": "code",
      "source": [
        "# To read the csv files in arrays and dataframes.\n",
        "import numpy as np\n",
        "import pandas as pd"
      ],
      "execution_count": null,
      "outputs": []
    },
    {
      "metadata": {
        "trusted": true,
        "id": "NXW8B361eJki"
      },
      "cell_type": "code",
      "source": [
        "data = pd.read_csv(\"../input/spam.csv\", encoding = \"latin-1\")\n",
        "# # encoding='latin-1' is used to download all special characters and everything in python. If there is no encoding on the data, it gives an error. Let's check the first five values.\n",
        "data.head()"
      ],
      "execution_count": null,
      "outputs": []
    },
    {
      "metadata": {
        "id": "7JanhuxpeJkj"
      },
      "cell_type": "markdown",
      "source": [
        "Check for the null values if any and count the total number of null values."
      ]
    },
    {
      "metadata": {
        "_cell_guid": "79c7e3d0-c299-4dcb-8224-4455121ee9b0",
        "_uuid": "d629ff2d2480ee46fbb7e2d37f6b5fab8052498a",
        "trusted": true,
        "id": "PR2WV65xeJkk"
      },
      "cell_type": "code",
      "source": [
        "data.isnull().sum()"
      ],
      "execution_count": null,
      "outputs": []
    },
    {
      "metadata": {
        "id": "PE3jwdOWeJkk"
      },
      "cell_type": "markdown",
      "source": [
        "There are so many null values in the 3rd, 4th and 5th columns and it is better to remove them. Also rename the column names as they doesn't sound familiar."
      ]
    },
    {
      "metadata": {
        "trusted": true,
        "id": "Wx4QJtpgeJkl"
      },
      "cell_type": "code",
      "source": [
        "data = data.drop([\"Unnamed: 2\",\"Unnamed: 3\",\"Unnamed: 4\"],axis=1)\n",
        "data.rename(columns= { 'v1' : 'class' , 'v2' : 'message'}, inplace= True)\n",
        "data.head()"
      ],
      "execution_count": null,
      "outputs": []
    },
    {
      "metadata": {
        "trusted": true,
        "id": "EEYvOsL_eJkm"
      },
      "cell_type": "code",
      "source": [
        "data.info()"
      ],
      "execution_count": null,
      "outputs": []
    },
    {
      "metadata": {
        "id": "e_HCy6A5eJkn"
      },
      "cell_type": "markdown",
      "source": [
        "# Data Visualization"
      ]
    },
    {
      "metadata": {
        "trusted": true,
        "id": "DszXMul3eJkn"
      },
      "cell_type": "code",
      "source": [
        "import matplotlib.pyplot as plt\n",
        "count =pd.value_counts(data[\"class\"], sort= True)\n",
        "count.plot(kind= 'bar', color= [\"blue\", \"orange\"])\n",
        "plt.title('Bar chart')\n",
        "plt.legend(loc='best')\n",
        "plt.show()"
      ],
      "execution_count": null,
      "outputs": []
    },
    {
      "metadata": {
        "id": "3R4_e5zPeJko"
      },
      "cell_type": "markdown",
      "source": [
        "As we see that the count of spam email is less."
      ]
    },
    {
      "metadata": {
        "trusted": true,
        "id": "c0fYJ0lTeJko"
      },
      "cell_type": "code",
      "source": [
        "count.plot(kind = 'pie',autopct='%1.2f%%') # 1.2 is the decimal points for 2 places\n",
        "plt.title('Pie chart')\n",
        "plt.show()"
      ],
      "execution_count": null,
      "outputs": []
    },
    {
      "metadata": {
        "trusted": true,
        "id": "8HatWuXZeJkp"
      },
      "cell_type": "code",
      "source": [
        "data.groupby('class').describe()"
      ],
      "execution_count": null,
      "outputs": []
    },
    {
      "metadata": {
        "id": "MprnPml-eJkp"
      },
      "cell_type": "markdown",
      "source": [
        "Add a new column called **Length** and check the size of each message."
      ]
    },
    {
      "metadata": {
        "trusted": true,
        "id": "qufSogIZeJkp"
      },
      "cell_type": "code",
      "source": [
        "data['length'] = data['message'].apply(len)\n",
        "# swapping the columns\n",
        "data = data[['message', 'length', 'class']]\n",
        "data.head()"
      ],
      "execution_count": null,
      "outputs": []
    },
    {
      "metadata": {
        "id": "40JDBc-ReJkq"
      },
      "cell_type": "markdown",
      "source": [
        "# Data Pre-Processing"
      ]
    },
    {
      "metadata": {
        "id": "-KGYedlpeJkq"
      },
      "cell_type": "markdown",
      "source": [
        "The process of converting data to something a computer can understand is referred to as pre-processing. One of the major forms of pre-processing is to filter out useless data. In natural language processing, useless words (data), are referred to as stop words.\n",
        "\n",
        "**What are Stop words?**\n",
        "\n",
        "Stop Words: A stop word is a commonly used word (such as “the”, “a”, “an”, “in”) that a search engine has been programmed to ignore, both when indexing entries for searching and when retrieving them as the result of a search query.\n",
        "\n",
        "\n",
        "We would not want these words taking up space in our database, or taking up valuable processing time. For this, we can remove them easily, by storing a list of words that you consider to be stop words.\n",
        "\n",
        "* Remove all **Non-words** in the message( ex : if there are any special characters or numbers, they are replaced with spaces.)\n",
        "\n",
        "\n",
        "* Changing all the characters to **lower case letters**. We can do it in with the upper case as well, but lower case looks better in     approach. ( ex : the syste must treat the characters 'A' and 'a' the same.\n",
        "\n",
        "\n",
        "*  Splitting each word in the sentence and separated by **comma**\n",
        "\n",
        "\n",
        "* Checking the **stop words ( if any )** and removing them accordingly.\n",
        "\n",
        "\n",
        "The idea of **stemming** is a sort of normalizing method. Many variations of words carry the same meaning, other than when tense is    involved.\n",
        "\n",
        " The reason why we stem is to shorten the lookup, and normalize sentences.\n",
        "\n",
        " **Consider:**\n",
        "\n",
        " \"I was taking a ride in the car.\"\n",
        "\n",
        " \"I was riding in the car.\"\n",
        "\n",
        " This sentence means the same thing. in the car is the same\n",
        "\n",
        "5. **Joining** all the words into a single sentence after splitting and checking each word in a sentence. it joins all the words.\n",
        "\n",
        "\n"
      ]
    },
    {
      "metadata": {
        "trusted": true,
        "id": "gPHZYYiDeJkq"
      },
      "cell_type": "code",
      "source": [
        "import re\n",
        "from nltk.stem import PorterStemmer\n",
        "from nltk.corpus import stopwords\n",
        "def clean_message(message):\n",
        "    message = re.sub(\"[^A-Za-z]\", \" \", message) #1\n",
        "    message = message.lower() #2\n",
        "    message = message.split() #3\n",
        "    stemmer = PorterStemmer()   #4. to find the  root meaning word of each word\n",
        "    message = [stemmer.stem(word) for word in message if word not in set(stopwords.words(\"english\"))] #5\n",
        "    message = \" \".join(message) #6 #Keeping cleaned words together\n",
        "    return message"
      ],
      "execution_count": null,
      "outputs": []
    },
    {
      "metadata": {
        "id": "WkNuCWcreJkq"
      },
      "cell_type": "markdown",
      "source": [
        "Let's test how our function works. We shall take the original data and the 1st value."
      ]
    },
    {
      "metadata": {
        "trusted": true,
        "id": "l2Q2jcAneJkq"
      },
      "cell_type": "code",
      "source": [
        "message = data.message[0]\n",
        "print(message)"
      ],
      "execution_count": null,
      "outputs": []
    },
    {
      "metadata": {
        "id": "CGp_ZjqleJkr"
      },
      "cell_type": "markdown",
      "source": [
        "Testing the data after text mining from the actual data given and performing all the operiations on the data."
      ]
    },
    {
      "metadata": {
        "trusted": true,
        "id": "YNwiBzh6eJkr"
      },
      "cell_type": "code",
      "source": [
        "message = clean_message(message)\n",
        "print(message)"
      ],
      "execution_count": null,
      "outputs": []
    },
    {
      "metadata": {
        "id": "HBWsT0HAeJkr"
      },
      "cell_type": "markdown",
      "source": [
        "Let us apply the function to all the rows in the data."
      ]
    },
    {
      "metadata": {
        "trusted": true,
        "id": "eI-iRLBOeJkr"
      },
      "cell_type": "code",
      "source": [
        "messages = []\n",
        "for i in range(0, len(data)):\n",
        "    message = clean_message(data.message[i])\n",
        "    messages.append(message)"
      ],
      "execution_count": null,
      "outputs": []
    },
    {
      "metadata": {
        "trusted": true,
        "id": "wjUvBmTXeJkr"
      },
      "cell_type": "code",
      "source": [
        "data = data.drop([\"message\"],axis=1)\n",
        "data['messages'] = messages\n",
        "data.head()"
      ],
      "execution_count": null,
      "outputs": []
    },
    {
      "metadata": {
        "id": "P3CKkyBDeJkr"
      },
      "cell_type": "markdown",
      "source": [
        "# Feature selection"
      ]
    },
    {
      "metadata": {
        "trusted": true,
        "id": "82oRKEUweJks"
      },
      "cell_type": "code",
      "source": [
        "#let's seperate the output and documents\n",
        "y = data[\"class\"].values\n",
        "x = data[\"messages\"].values"
      ],
      "execution_count": null,
      "outputs": []
    },
    {
      "metadata": {
        "trusted": true,
        "id": "PHHKMJYXeJks"
      },
      "cell_type": "code",
      "source": [
        "from sklearn.model_selection import train_test_split\n",
        "#splitting the data in training and test set\n",
        "xtrain , xtest , ytrain , ytest = train_test_split(x,y, test_size = 0.3, random_state = 1)\n",
        "# test size is 0.3 which is 70 : 30\n",
        "print(xtrain.shape, ytrain.shape, xtest.shape, ytest.shape)\n"
      ],
      "execution_count": null,
      "outputs": []
    },
    {
      "metadata": {
        "id": "Q51LnpC4eJks"
      },
      "cell_type": "markdown",
      "source": [
        "A **bag-of-words model**, or BoW for short, is a way of extracting features from text for use in modeling, such as with machine learning algorithms.\n",
        "\n",
        "Bag of Words (BoW) is an algorithm that counts how many times a word appears in a document. It’s a tally. Those word counts allow us to compare documents and gauge their similarities for applications like search, document classification and topic modeling. BoW is a also method for preparing text for input in a deep-learning net.\n",
        "\n",
        "BoW lists words paired with their word counts per document. In the table where the words and documents that effectively become vectors are stored, each row is a word, each column is a document, and each cell is a word count. Each of the documents in the corpus is represented by columns of equal length. Those are wordcount vectors, an output stripped of context.\n",
        "\n",
        "Whenever we apply any algorithm in NLP, it works on numbers. We cannot directly feed our text into that algorithm. Hence, Bag of Words model is used to preprocess the text by converting it into a bag of words, which keeps a count of the total occurrences of most frequently used words.\n",
        "\n",
        "**Example :** Hello, how are you ?\n",
        "\n",
        "After making the sentence into tokens  : \"Hello\", \"how\", \"are\", \"you\"\n",
        "\n",
        "\n"
      ]
    },
    {
      "metadata": {
        "id": "5eJ97UpDeJks"
      },
      "cell_type": "markdown",
      "source": [
        "# **TF-IDF ( Term Frequency - Inverse Document Frequency )**\n"
      ]
    },
    {
      "metadata": {
        "id": "dJ6ud1S1eJkt"
      },
      "cell_type": "markdown",
      "source": [
        "This method is also called as Normalization. TF - How many times a particular word appears in a single doc. IDF - This downscales words that appear a lot across documents."
      ]
    },
    {
      "metadata": {
        "trusted": true,
        "id": "NM48Lq7geJkt"
      },
      "cell_type": "code",
      "source": [
        "from sklearn.feature_extraction.text import TfidfVectorizer\n",
        "vect = TfidfVectorizer(stop_words='english',max_df=0.5)\n",
        "\n",
        "#fitting train data and then transforming it to count matrix#fitting\n",
        "x_train = vect.fit_transform(xtrain)\n",
        "#print(x_train)\n",
        "\n",
        "#transforming the test data into the count matrix initiated for train data\n",
        "x_test = vect.transform(xtest)\n",
        "\n",
        "# importing naive bayes algorithm\n",
        "from sklearn.naive_bayes import MultinomialNB\n",
        "nb = MultinomialNB()\n",
        "\n",
        "#fitting the model into train data\n",
        "nb.fit(x_train,ytrain)\n",
        "\n",
        "#predicting the model on train and test data\n",
        "y_pred_test = nb.predict(x_test)\n",
        "y_pred_train = nb.predict(x_train)\n",
        "\n",
        "#checking accuracy score\n",
        "from sklearn.metrics import accuracy_score\n",
        "print(accuracy_score(ytest,y_pred_test)*100)\n",
        "\n",
        "#Making Confusion matrix\n",
        "from sklearn.metrics import confusion_matrix\n",
        "cm = confusion_matrix(ytest,y_pred_test)\n",
        "print(cm)"
      ],
      "execution_count": null,
      "outputs": []
    },
    {
      "metadata": {
        "id": "zyfFAYG5eJkt"
      },
      "cell_type": "markdown",
      "source": [
        "# **Count Vectorizer **  \n",
        "\n",
        "\n"
      ]
    },
    {
      "metadata": {
        "id": "9xJXUOKAeJkt"
      },
      "cell_type": "markdown",
      "source": [
        "The most straightforward one, it counts the number of times a token shows up in the document and uses this value as its weight. In Python tokenization basically refers to splitting up a larger body of text into smaller lines, words or even creating words for a non-English language.\n",
        "\n",
        "For more information, one can go through the link below.\n",
        "\n",
        "https://towardsdatascience.com/hacking-scikit-learns-vectorizers-9ef26a7170af\n",
        "\n",
        "https://machinelearningmastery.com/prepare-text-data-machine-learning-scikit-learn/"
      ]
    },
    {
      "metadata": {
        "trusted": true,
        "id": "mYFKYc9QeJkt"
      },
      "cell_type": "code",
      "source": [
        "from sklearn.feature_extraction.text import CountVectorizer\n",
        "vect1 = CountVectorizer(stop_words='english',max_df=0.5)\n",
        "\n",
        "#fitting train data and then transforming it to count matrix#fitting\n",
        "x_train = vect1.fit_transform(xtrain)\n",
        "\n",
        "#transforming the test data into the count matrix initiated for train data\n",
        "x_test = vect1.transform(xtest)\n",
        "\n",
        "# importing naive bayes algorithm\n",
        "from sklearn.naive_bayes import MultinomialNB\n",
        "nb = MultinomialNB()\n",
        "\n",
        "#fitting the model into train data\n",
        "nb.fit(x_train,ytrain)\n",
        "\n",
        "#predicting the model on train and test data\n",
        "y_pred_test = nb.predict(x_test)\n",
        "y_pred_train = nb.predict(x_train)\n",
        "\n",
        "#checking accuracy score\n",
        "from sklearn.metrics import accuracy_score\n",
        "print(accuracy_score(ytest,y_pred_test)*100)\n",
        "\n",
        "#Making Confusion matrix\n",
        "from sklearn.metrics import confusion_matrix\n",
        "cm = confusion_matrix(ytest,y_pred_test)\n",
        "print(cm)"
      ],
      "execution_count": null,
      "outputs": []
    },
    {
      "metadata": {
        "id": "b7ap3o7qeJku"
      },
      "cell_type": "markdown",
      "source": [
        "**Looks like the count vectorizer is giving the most accutate result of 98 where as TfIdf is at 97**"
      ]
    },
    {
      "metadata": {
        "id": "l_DFnGJkeJku"
      },
      "cell_type": "markdown",
      "source": [
        "Let us take some random sample data and try to apply the model and see how that actually works."
      ]
    },
    {
      "metadata": {
        "id": "27U4Ce-keJkz"
      },
      "cell_type": "markdown",
      "source": [
        "# Testing the Model"
      ]
    },
    {
      "metadata": {
        "trusted": true,
        "id": "NKY8lB0UeJkz"
      },
      "cell_type": "code",
      "source": [
        "new_text = pd.Series('WINNER!! As a valued network customer you have been selected to receivea å£900 prize reward! To claim call 09061701461. Claim code KL341. valid 12 hours')\n",
        "new_text_transform = vect.transform(new_text)\n",
        "print(\" The email is a\" ,nb.predict(new_text_transform))"
      ],
      "execution_count": null,
      "outputs": []
    },
    {
      "metadata": {
        "trusted": true,
        "id": "oFeDN4cJeJk0"
      },
      "cell_type": "code",
      "source": [
        "new_text = pd.Series(\" Hello, how are you?\")\n",
        "new_text_transform = vect.transform(new_text)\n",
        "print(\" The email is a\" ,nb.predict(new_text_transform))"
      ],
      "execution_count": null,
      "outputs": []
    },
    {
      "metadata": {
        "trusted": true,
        "id": "Hb7qvM-feJk0"
      },
      "cell_type": "code",
      "source": [],
      "execution_count": null,
      "outputs": []
    }
  ],
  "metadata": {
    "kernelspec": {
      "display_name": "Python 3",
      "language": "python",
      "name": "python3"
    },
    "language_info": {
      "name": "python",
      "version": "3.6.4",
      "mimetype": "text/x-python",
      "codemirror_mode": {
        "name": "ipython",
        "version": 3
      },
      "pygments_lexer": "ipython3",
      "nbconvert_exporter": "python",
      "file_extension": ".py"
    },
    "colab": {
      "name": "Detecting Spam/ Non-spam using Navie Bayes",
      "provenance": [],
      "include_colab_link": true
    }
  },
  "nbformat": 4,
  "nbformat_minor": 0
}